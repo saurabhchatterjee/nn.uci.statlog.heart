{
 "cells": [
  {
   "cell_type": "code",
   "execution_count": 1,
   "metadata": {},
   "outputs": [],
   "source": [
    "import pandas as pd\n",
    "import numpy as np\n",
    "import matplotlib.pyplot as plt\n",
    "from sklearn.model_selection import train_test_split\n",
    "from sklearn.preprocessing import StandardScaler"
   ]
  },
  {
   "cell_type": "code",
   "execution_count": 2,
   "metadata": {},
   "outputs": [],
   "source": [
    "# vizalize the data\n",
    "col_headers = ['age','sex','chest_pain_type','resting_bp','serum_cholesterol', 'fasting_blood_sugar',\n",
    "           'resting_ecg_results', 'max_heart_rate','exercise_induced', 'oldpeak', 'slope_of_the_peak',\n",
    "           'number_of_major_vessels', 'thal', 'response']\n",
    "heart_data = pd.read_csv('heart.dat', sep=' ', names=col_headers)"
   ]
  },
  {
   "cell_type": "code",
   "execution_count": 3,
   "metadata": {},
   "outputs": [
    {
     "data": {
      "text/html": [
       "<div>\n",
       "<style scoped>\n",
       "    .dataframe tbody tr th:only-of-type {\n",
       "        vertical-align: middle;\n",
       "    }\n",
       "\n",
       "    .dataframe tbody tr th {\n",
       "        vertical-align: top;\n",
       "    }\n",
       "\n",
       "    .dataframe thead th {\n",
       "        text-align: right;\n",
       "    }\n",
       "</style>\n",
       "<table border=\"1\" class=\"dataframe\">\n",
       "  <thead>\n",
       "    <tr style=\"text-align: right;\">\n",
       "      <th></th>\n",
       "      <th>age</th>\n",
       "      <th>sex</th>\n",
       "      <th>chest_pain_type</th>\n",
       "      <th>resting_bp</th>\n",
       "      <th>serum_cholesterol</th>\n",
       "      <th>fasting_blood_sugar</th>\n",
       "      <th>resting_ecg_results</th>\n",
       "      <th>max_heart_rate</th>\n",
       "      <th>exercise_induced</th>\n",
       "      <th>oldpeak</th>\n",
       "      <th>slope_of_the_peak</th>\n",
       "      <th>number_of_major_vessels</th>\n",
       "      <th>thal</th>\n",
       "      <th>response</th>\n",
       "    </tr>\n",
       "  </thead>\n",
       "  <tbody>\n",
       "    <tr>\n",
       "      <th>0</th>\n",
       "      <td>70.0</td>\n",
       "      <td>1.0</td>\n",
       "      <td>4.0</td>\n",
       "      <td>130.0</td>\n",
       "      <td>322.0</td>\n",
       "      <td>0.0</td>\n",
       "      <td>2.0</td>\n",
       "      <td>109.0</td>\n",
       "      <td>0.0</td>\n",
       "      <td>2.4</td>\n",
       "      <td>2.0</td>\n",
       "      <td>3.0</td>\n",
       "      <td>3.0</td>\n",
       "      <td>2</td>\n",
       "    </tr>\n",
       "    <tr>\n",
       "      <th>1</th>\n",
       "      <td>67.0</td>\n",
       "      <td>0.0</td>\n",
       "      <td>3.0</td>\n",
       "      <td>115.0</td>\n",
       "      <td>564.0</td>\n",
       "      <td>0.0</td>\n",
       "      <td>2.0</td>\n",
       "      <td>160.0</td>\n",
       "      <td>0.0</td>\n",
       "      <td>1.6</td>\n",
       "      <td>2.0</td>\n",
       "      <td>0.0</td>\n",
       "      <td>7.0</td>\n",
       "      <td>1</td>\n",
       "    </tr>\n",
       "    <tr>\n",
       "      <th>2</th>\n",
       "      <td>57.0</td>\n",
       "      <td>1.0</td>\n",
       "      <td>2.0</td>\n",
       "      <td>124.0</td>\n",
       "      <td>261.0</td>\n",
       "      <td>0.0</td>\n",
       "      <td>0.0</td>\n",
       "      <td>141.0</td>\n",
       "      <td>0.0</td>\n",
       "      <td>0.3</td>\n",
       "      <td>1.0</td>\n",
       "      <td>0.0</td>\n",
       "      <td>7.0</td>\n",
       "      <td>2</td>\n",
       "    </tr>\n",
       "    <tr>\n",
       "      <th>3</th>\n",
       "      <td>64.0</td>\n",
       "      <td>1.0</td>\n",
       "      <td>4.0</td>\n",
       "      <td>128.0</td>\n",
       "      <td>263.0</td>\n",
       "      <td>0.0</td>\n",
       "      <td>0.0</td>\n",
       "      <td>105.0</td>\n",
       "      <td>1.0</td>\n",
       "      <td>0.2</td>\n",
       "      <td>2.0</td>\n",
       "      <td>1.0</td>\n",
       "      <td>7.0</td>\n",
       "      <td>1</td>\n",
       "    </tr>\n",
       "    <tr>\n",
       "      <th>4</th>\n",
       "      <td>74.0</td>\n",
       "      <td>0.0</td>\n",
       "      <td>2.0</td>\n",
       "      <td>120.0</td>\n",
       "      <td>269.0</td>\n",
       "      <td>0.0</td>\n",
       "      <td>2.0</td>\n",
       "      <td>121.0</td>\n",
       "      <td>1.0</td>\n",
       "      <td>0.2</td>\n",
       "      <td>1.0</td>\n",
       "      <td>1.0</td>\n",
       "      <td>3.0</td>\n",
       "      <td>1</td>\n",
       "    </tr>\n",
       "  </tbody>\n",
       "</table>\n",
       "</div>"
      ],
      "text/plain": [
       "    age  sex  chest_pain_type  resting_bp  serum_cholesterol  \\\n",
       "0  70.0  1.0              4.0       130.0              322.0   \n",
       "1  67.0  0.0              3.0       115.0              564.0   \n",
       "2  57.0  1.0              2.0       124.0              261.0   \n",
       "3  64.0  1.0              4.0       128.0              263.0   \n",
       "4  74.0  0.0              2.0       120.0              269.0   \n",
       "\n",
       "   fasting_blood_sugar  resting_ecg_results  max_heart_rate  exercise_induced  \\\n",
       "0                  0.0                  2.0           109.0               0.0   \n",
       "1                  0.0                  2.0           160.0               0.0   \n",
       "2                  0.0                  0.0           141.0               0.0   \n",
       "3                  0.0                  0.0           105.0               1.0   \n",
       "4                  0.0                  2.0           121.0               1.0   \n",
       "\n",
       "   oldpeak  slope_of_the_peak  number_of_major_vessels  thal  response  \n",
       "0      2.4                2.0                      3.0   3.0         2  \n",
       "1      1.6                2.0                      0.0   7.0         1  \n",
       "2      0.3                1.0                      0.0   7.0         2  \n",
       "3      0.2                2.0                      1.0   7.0         1  \n",
       "4      0.2                1.0                      1.0   3.0         1  "
      ]
     },
     "execution_count": 3,
     "metadata": {},
     "output_type": "execute_result"
    }
   ],
   "source": [
    "heart_data.head()"
   ]
  },
  {
   "cell_type": "code",
   "execution_count": 4,
   "metadata": {},
   "outputs": [
    {
     "data": {
      "text/plain": [
       "age                        0\n",
       "sex                        0\n",
       "chest_pain_type            0\n",
       "resting_bp                 0\n",
       "serum_cholesterol          0\n",
       "fasting_blood_sugar        0\n",
       "resting_ecg_results        0\n",
       "max_heart_rate             0\n",
       "exercise_induced           0\n",
       "oldpeak                    0\n",
       "slope_of_the_peak          0\n",
       "number_of_major_vessels    0\n",
       "thal                       0\n",
       "response                   0\n",
       "dtype: int64"
      ]
     },
     "execution_count": 4,
     "metadata": {},
     "output_type": "execute_result"
    }
   ],
   "source": [
    "# check if there are missing values\n",
    "heart_data.isna().sum()"
   ]
  },
  {
   "cell_type": "code",
   "execution_count": 5,
   "metadata": {},
   "outputs": [
    {
     "data": {
      "text/plain": [
       "age                        float64\n",
       "sex                        float64\n",
       "chest_pain_type            float64\n",
       "resting_bp                 float64\n",
       "serum_cholesterol          float64\n",
       "fasting_blood_sugar        float64\n",
       "resting_ecg_results        float64\n",
       "max_heart_rate             float64\n",
       "exercise_induced           float64\n",
       "oldpeak                    float64\n",
       "slope_of_the_peak          float64\n",
       "number_of_major_vessels    float64\n",
       "thal                       float64\n",
       "response                     int64\n",
       "dtype: object"
      ]
     },
     "execution_count": 5,
     "metadata": {},
     "output_type": "execute_result"
    }
   ],
   "source": [
    "# check data types\n",
    "heart_data.dtypes"
   ]
  },
  {
   "cell_type": "code",
   "execution_count": 6,
   "metadata": {},
   "outputs": [],
   "source": [
    "# separate the features from response\n",
    "x = heart_data.drop(columns=['response'])\n",
    "# heart_data['response'] = heart_data['response'].replace(1, 0)\n",
    "# heart_data['response'] = heart_data['response'].replace(2, 1)\n",
    "y = heart_data['response'].values"
   ]
  },
  {
   "cell_type": "code",
   "execution_count": 7,
   "metadata": {},
   "outputs": [],
   "source": [
    "# define model layer architecture\n",
    "# we will have 13 input nodes (one for each feature), 8 hidden nodes, and 1 output node for classification\n",
    "\n",
    "class NeuralNet:\n",
    "    def __init__(self, layers=(13,8,1), iterations=100, learning_rate=0.001):\n",
    "        self.params = {}\n",
    "        self.layers = layers\n",
    "        self.x = None\n",
    "        self.y = None\n",
    "        self.iterations = iterations\n",
    "        self.learning_rate = learning_rate\n",
    "        self.loss = []\n",
    "        self.m = None\n",
    "    \n",
    "    # initialize model paramenters\n",
    "    def initialize_params(self):\n",
    "        np.random.seed(1)\n",
    "        self.params['W1'] = np.random.randn(self.layers[1], self.layers[0]) * 0.01\n",
    "        self.params['b1'] = np.zeros((self.layers[1], 1))\n",
    "        self.params['W2'] = np.random.randn(self.layers[2], self.layers[1]) * 0.01\n",
    "        self.params['b2'] = np.zeros((self.layers[2], 1))\n",
    "\n",
    "    # implement the sigmoid function\n",
    "    def sigmoid(self, z):\n",
    "        return 1/(1+np.exp(-z))\n",
    "    \n",
    "    # implement the relu function\n",
    "    def relu(self, z):\n",
    "        return np.maximum(0, z)\n",
    "    \n",
    "    def dRelu(self, x):\n",
    "        x[x<=0] = 0\n",
    "        x[x>0] = 1\n",
    "        return x\n",
    "    \n",
    "    def dTanh(self, a):\n",
    "        return 1- np.power(a, 2)\n",
    "    \n",
    "    # calculate the entropy loss\n",
    "    def calculate_cost(self, yhat, y):\n",
    "#         m = len(y)\n",
    "        return (-1/self.m) * np.sum(np.multiply(y, np.log(yhat)) + np.multiply((1-y), np.log(1-yhat)))        \n",
    "    \n",
    "    # implement forward propagation\n",
    "    def forward_propagation(self):\n",
    "\n",
    "        Z1 = np.dot(self.params['W1'], self.x) + self.params['b1']\n",
    "#         A1 = self.relu(Z1)\n",
    "        A1 = np.tanh(Z1)\n",
    "        Z2 = np.dot(self.params['W2'], A1) + self.params['b2']\n",
    "        A2 = self.sigmoid(Z2)\n",
    "        loss = self.calculate_cost(A2, self.y)\n",
    "        \n",
    "        self.params['Z1'] = Z1\n",
    "        self.params['A1'] = A1\n",
    "        self.params['Z2'] = Z2\n",
    "        self.params['A2'] = A2\n",
    "        \n",
    "        return A2, loss\n",
    "    \n",
    "    # implement back prop\n",
    "    def back_propagation(self, yhat):\n",
    "        dZ2 = self.params['A2'] - self.y\n",
    "        dW2 = (1/self.m) * np.dot(dZ2, self.params['A1'].T)\n",
    "        db2 = (1/self.m) * np.sum(dZ2, axis=1, keepdims=True)\n",
    "#         dZ1 = np.dot(self.params['W2'].T, dZ2) * (1 - self.params['Z1']**2)\n",
    "#         dZ1 = np.dot(self.params['W2'].T, dZ2) * self.dRelu(self.params['Z1'])\n",
    "        dZ1 = np.dot(self.params['W2'].T, dZ2) * self.dTanh(self.params['A1'])\n",
    "        dW1 = (1/self.m) * np.dot(dZ1, self.x.T)\n",
    "        db1 = (1/self.m) * np.sum(dZ1, axis=1, keepdims=True)\n",
    "        \n",
    "        self.params['W1'] = self.params['W1'] - self.learning_rate * dW1\n",
    "        self.params['b1'] = self.params['b1'] - self.learning_rate * db1\n",
    "        self.params['W2'] = self.params['W2'] - self.learning_rate * dW2\n",
    "        self.params['b2'] = self.params['b2'] - self.learning_rate * db2\n",
    "        \n",
    "    \n",
    "    def fit(self, x, y):\n",
    "        self.x = x\n",
    "        self.y = y\n",
    "        self.m = x.shape[1]\n",
    "        self.initialize_params()\n",
    "        \n",
    "        for i in range(self.iterations):\n",
    "            yhat, loss = self.forward_propagation()\n",
    "            self.back_propagation(yhat)\n",
    "            self.loss.append(loss)\n",
    "    \n",
    "    def predict(self, x):\n",
    "        Z1 = np.dot(self.params['W1'], x) + self.params['b1']\n",
    "        A1 = np.tanh(Z1)\n",
    "        Z2 = np.dot(self.params['W2'], A1) + self.params['b2']\n",
    "        A2 = self.sigmoid(Z2)\n",
    "        return np.round(A2)\n",
    "    \n",
    "    def accuracy(self, y, yhat):        \n",
    "        return (np.sum(y == yhat)/y.shape[1]) * 100\n",
    "    \n",
    "    def plot_loss(self):\n",
    "        plt.plot(self.loss)\n",
    "        plt.xlabel(\"Iteration\")\n",
    "        plt.ylabel(\"logloss\")\n",
    "        plt.title(\"Loss curve for training\")\n",
    "        plt.show()    "
   ]
  },
  {
   "cell_type": "code",
   "execution_count": 8,
   "metadata": {},
   "outputs": [],
   "source": [
    "# transform response: Absence(1) or presence(2) of heart disease --> Absence(0) or presence(1) of heart disease\n",
    "y = np.where(y==1, 0, 1)\n",
    "xTrain, xTest, yTrain, yTest = train_test_split(x, y, test_size=0.20, random_state=2)\n",
    "sc = StandardScaler()\n",
    "sc.fit(xTrain)\n",
    "xTrain = sc.transform(xTrain)\n",
    "xTest = sc.transform(xTest)\n",
    "n = xTrain.shape[1]\n",
    "mTrain = xTrain.shape[0]\n",
    "mTest = xTest.shape[0]\n",
    "xTrain = xTrain.reshape(n,mTrain)\n",
    "xTest = xTest.reshape(n,mTest)\n",
    "yTrain = yTrain.reshape(1, mTrain)\n",
    "yTest = yTest.reshape(1, mTest)"
   ]
  },
  {
   "cell_type": "code",
   "execution_count": 11,
   "metadata": {},
   "outputs": [
    {
     "data": {
      "text/plain": [
       "(54.629629629629626, 59.25925925925925)"
      ]
     },
     "execution_count": 11,
     "metadata": {},
     "output_type": "execute_result"
    }
   ],
   "source": [
    "nn = NeuralNet(layers=(13,8,1), iterations=10000, learning_rate=0.001)\n",
    "nn.fit(xTrain, yTrain)\n",
    "train_pred = nn.predict(xTrain)\n",
    "test_pred = nn.predict(xTest)\n",
    "train_acc = nn.accuracy(yTrain, train_pred)\n",
    "test_acc = nn.accuracy(yTest, test_pred)\n",
    "train_acc, test_acc"
   ]
  },
  {
   "cell_type": "code",
   "execution_count": 12,
   "metadata": {},
   "outputs": [
    {
     "data": {
      "image/png": "[encoded data removed]",
      "text/plain": [
       "<Figure size 432x288 with 1 Axes>"
      ]
     },
     "metadata": {
      "needs_background": "light"
     },
     "output_type": "display_data"
    }
   ],
   "source": [
    "nn.plot_loss()"
   ]
  },
  {
   "cell_type": "code",
   "execution_count": null,
   "metadata": {},
   "outputs": [],
   "source": []
  }
 ],
 "metadata": {
  "kernelspec": {
   "display_name": "Python 3",
   "language": "python",
   "name": "python3"
  },
  "language_info": {
   "codemirror_mode": {
    "name": "ipython",
    "version": 3
   },
   "file_extension": ".py",
   "mimetype": "text/x-python",
   "name": "python",
   "nbconvert_exporter": "python",
   "pygments_lexer": "ipython3",
   "version": "3.7.0"
  }
 },
 "nbformat": 4,
 "nbformat_minor": 4
}
